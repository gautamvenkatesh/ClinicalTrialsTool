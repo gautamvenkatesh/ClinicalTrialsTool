{
 "cells": [
  {
   "cell_type": "code",
   "execution_count": 1,
   "metadata": {},
   "outputs": [],
   "source": [
    "import requests\n",
    "import json\n",
    "import datetime\n",
    "import pandas as pd"
   ]
  },
  {
   "cell_type": "code",
   "execution_count": null,
   "metadata": {},
   "outputs": [],
   "source": [
    "def url_maker(date, start_index):\n",
    "    \n",
    "    url = \"https://clinicaltrialsapi.cancer.gov/api/v2/trials?size=50&record_verification_date_gte=\" + yesterday\n",
    "    url += '&from=' + str(start_index) \n",
    "\n",
    "    payload = {}\n",
    "    headers = {\n",
    "        'x-api-key': 'mbxhNtV14K6tiaQ5IUHt2m0wpaKrz9H2cMAz1nHg',\n",
    "    }\n",
    "    full_data = requests.request(\"GET\", url, headers=headers, data=payload)\n",
    "    \n",
    "    print(response.text)\n",
    "    "
   ]
  }
 ],
 "metadata": {
  "kernelspec": {
   "display_name": "Python 3",
   "language": "python",
   "name": "python3"
  },
  "language_info": {
   "codemirror_mode": {
    "name": "ipython",
    "version": 3
   },
   "file_extension": ".py",
   "mimetype": "text/x-python",
   "name": "python",
   "nbconvert_exporter": "python",
   "pygments_lexer": "ipython3",
   "version": "3.8.5"
  }
 },
 "nbformat": 4,
 "nbformat_minor": 4
}
